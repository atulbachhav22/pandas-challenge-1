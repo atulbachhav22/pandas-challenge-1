{
 "cells": [
  {
   "cell_type": "markdown",
   "id": "dc0318d6",
   "metadata": {},
   "source": [
    "## Part 1: Explore the Data\n",
    "\n",
    "Import the data and use Pandas to learn more about the dataset."
   ]
  },
  {
   "cell_type": "code",
   "execution_count": null,
   "id": "e076f57f",
   "metadata": {},
   "outputs": [],
   "source": [
    "import pandas as pd\n",
    "\n",
    "df = pd.read_csv('Resources/client_dataset.csv')\n",
    "\n",
    "df.head()"
   ]
  },
  {
   "cell_type": "code",
   "execution_count": null,
   "id": "71b9bbd2",
   "metadata": {},
   "outputs": [],
   "source": [
    "# View the column names in the data\n",
    "df.columns\n"
   ]
  },
  {
   "cell_type": "code",
   "execution_count": null,
   "id": "bc0f4172",
   "metadata": {},
   "outputs": [],
   "source": [
    "# Use the describe function to gather some basic statistics\n",
    "df.describe()"
   ]
  },
  {
   "cell_type": "code",
   "execution_count": null,
   "id": "b24b53cc",
   "metadata": {},
   "outputs": [],
   "source": [
    "# Use this space to do any additional research\n",
    "# and familiarize yourself with the data.\n",
    "df[\"category\"].isnull().count()\n",
    "\n"
   ]
  },
  {
   "cell_type": "code",
   "execution_count": null,
   "id": "551cb358",
   "metadata": {},
   "outputs": [],
   "source": [
    "# What three item categories had the most entries?\n",
    "top_3_categories  = df[\"category\"].value_counts().nlargest(3)\n",
    "top_3_categories_2 = df.groupby('category').size().nlargest(3)\n",
    "print(top_3_categories )\n",
    "print(top_3_categories_2 )"
   ]
  },
  {
   "cell_type": "code",
   "execution_count": null,
   "id": "b516fe71",
   "metadata": {},
   "outputs": [],
   "source": []
  },
  {
   "cell_type": "code",
   "execution_count": null,
   "id": "5f54e2cf",
   "metadata": {},
   "outputs": [],
   "source": [
    "# For the category with the most entries,\n",
    "# which subcategory had the most entries?df\n",
    "df_consumables =  df[df[\"category\"] == 'consumables']\n",
    "top_Subcateg0ry_consumables = df_consumables.groupby('subcategory').size().nlargest(1)\n",
    "print(top_Subcateg0ry_consumables)\n"
   ]
  },
  {
   "cell_type": "code",
   "execution_count": null,
   "id": "2db94379",
   "metadata": {},
   "outputs": [],
   "source": [
    "# Which five clients had the most entries in the data?\n",
    "top5_Clients = df.groupby('client_id').size().nlargest(5)\n",
    "top5_Clients\n"
   ]
  },
  {
   "cell_type": "code",
   "execution_count": null,
   "id": "a6635601",
   "metadata": {},
   "outputs": [],
   "source": [
    "# Store the client ids of those top 5 clients in a list.\n",
    "top5_Clients_List = top5_Clients.index.tolist()\n",
    "top5_Clients_List"
   ]
  },
  {
   "cell_type": "code",
   "execution_count": null,
   "id": "c88b8a3e",
   "metadata": {},
   "outputs": [],
   "source": [
    "# How many total units (the qty column) did the\n",
    "# client with the most entries order order?\n",
    "client_entries = df['client_id'].value_counts()\n",
    "client_most_entries = client_entries.idxmax()\n",
    "total_units_most_entries = df[df['client_id'] == client_most_entries]['qty'].sum()\n",
    "total_units_most_entries"
   ]
  },
  {
   "cell_type": "markdown",
   "id": "257fcd7d",
   "metadata": {},
   "source": [
    "## Part 2: Transform the Data\n",
    "Do we know that this client spent the more money than client 66037? If not, how would we find out? Transform the data using the steps below to prepare it for analysis."
   ]
  },
  {
   "cell_type": "code",
   "execution_count": null,
   "id": "0c25c4a8",
   "metadata": {},
   "outputs": [],
   "source": [
    "# Create a column that calculates the \n",
    "# subtotal for each line using the unit_price\n",
    "# and the qty\n",
    "df[\"line_subtotal\"] = df[\"unit_price\"] * df[\"qty\"]\n",
    "df[['unit_price', 'qty', 'line_subtotal']].head()"
   ]
  },
  {
   "cell_type": "code",
   "execution_count": null,
   "id": "ac9dafc8",
   "metadata": {},
   "outputs": [],
   "source": [
    "# Create a column for shipping price.\n",
    "# Assume a shipping price of $7 per pound\n",
    "# for orders over 50 pounds and $10 per\n",
    "# pound for items 50 pounds or under.\n",
    "\n",
    "# Define a lambda function with if condition to calculate the field based on existing columns\n",
    "\n",
    "df[\"total_weight\"] = df[\"unit_weight\"]  * df[\"qty\"] \n",
    "\n",
    "calculate_Shipping_price = lambda row: row['total_weight'] * 7  if row['total_weight'] >= 50 else row['total_weight'] * 10 \n",
    "\n",
    "df[\"shipping_price\"] = df.apply(calculate_Shipping_price , axis=1)\n",
    "\n",
    "df[['unit_price','unit_weight','qty','total_weight','shipping_price']].head()\n"
   ]
  },
  {
   "cell_type": "code",
   "execution_count": null,
   "id": "77f42c67",
   "metadata": {},
   "outputs": [],
   "source": [
    "# Create a column for the total price\n",
    "# using the subtotal and the shipping price\n",
    "# along with a sales tax of 9.25%\n",
    "\n",
    "calculate_Total_price = lambda row: round((row['line_subtotal'] + row['shipping_price']) * (1.0925),2)\n",
    "df[\"line_price\"] = df.apply(calculate_Total_price, axis=1)\n",
    "df[['line_subtotal','shipping_price','line_price']].head(5)\n"
   ]
  },
  {
   "cell_type": "code",
   "execution_count": null,
   "id": "c82ad275",
   "metadata": {},
   "outputs": [],
   "source": [
    "# Create a column for the cost\n",
    "# of each line using unit cost, qty, and\n",
    "# shipping price (assume the shipping cost\n",
    "# is exactly what is charged to the client).\n",
    "df[\"line_cost\"] = df[\"unit_cost\"] * df[\"qty\"] +  df[\"shipping_price\"]\n",
    "df[['shipping_price','line_price','unit_cost','qty','line_cost']].head(5)\n"
   ]
  },
  {
   "cell_type": "code",
   "execution_count": null,
   "id": "e2389018",
   "metadata": {},
   "outputs": [],
   "source": [
    "# Create a column for the profit of\n",
    "# each line using line cost and line price\n",
    "df['line_profit']=df['line_price']-df['line_cost']\n",
    "\n",
    "df[['client_id','qty','line_price','line_cost','line_profit']].head(5)\n"
   ]
  },
  {
   "cell_type": "markdown",
   "id": "ef6f62b1",
   "metadata": {},
   "source": [
    "## Part 3: Confirm your work\n",
    "You have email receipts showing that the total prices for 3 orders. Confirm that your calculations match the receipts. Remember, each order has multiple lines.\n",
    "\n",
    "Order ID 2742071 had a total price of \\$152,811.89\n",
    "\n",
    "Order ID 2173913 had a total price of \\$162,388.71\n",
    "\n",
    "Order ID 6128929 had a total price of \\$923,441.25\n"
   ]
  },
  {
   "cell_type": "code",
   "execution_count": null,
   "id": "c0e5d68e",
   "metadata": {},
   "outputs": [],
   "source": [
    "# Che()ck your work using the totals above\n",
    "print(f\"Order ID 2742071 had a total price of ${df.query('order_id == 2742071')['line_profit'].sum().round(2) } \" )\n",
    "\n",
    "print(f\"Order ID 2173913 had a total price of ${df.query('order_id == 2173913')['line_profit'].sum().round(2) } \" )\n",
    "\n",
    "print(f\"Order ID 6128929 had a total price of ${df.query('order_id == 6128929')['line_profit'].sum().round(2) } \" )"
   ]
  },
  {
   "cell_type": "markdown",
   "id": "b94d58ab",
   "metadata": {},
   "source": [
    "## Part 4: Summarize and Analyze\n",
    "Use the new columns with confirmed values to find the following information."
   ]
  },
  {
   "cell_type": "code",
   "execution_count": 72,
   "id": "7c005f34",
   "metadata": {},
   "outputs": [
    {
     "data": {
      "text/html": [
       "<style type=\"text/css\">\n",
       "</style>\n",
       "<table id=\"T_326c9\">\n",
       "  <thead>\n",
       "    <tr>\n",
       "      <th class=\"blank level0\" >&nbsp;</th>\n",
       "      <th id=\"T_326c9_level0_col0\" class=\"col_heading level0 col0\" >line_price</th>\n",
       "    </tr>\n",
       "    <tr>\n",
       "      <th class=\"index_name level0\" >client_id</th>\n",
       "      <th class=\"blank col0\" >&nbsp;</th>\n",
       "    </tr>\n",
       "  </thead>\n",
       "  <tbody>\n",
       "    <tr>\n",
       "      <th id=\"T_326c9_level0_row0\" class=\"row_heading level0 row0\" >66037</th>\n",
       "      <td id=\"T_326c9_row0_col0\" class=\"data row0 col0\" >$10,259,514.80</td>\n",
       "    </tr>\n",
       "    <tr>\n",
       "      <th id=\"T_326c9_level0_row1\" class=\"row_heading level0 row1\" >46820</th>\n",
       "      <td id=\"T_326c9_row1_col0\" class=\"data row1 col0\" >$9,743,794.33</td>\n",
       "    </tr>\n",
       "    <tr>\n",
       "      <th id=\"T_326c9_level0_row2\" class=\"row_heading level0 row2\" >38378</th>\n",
       "      <td id=\"T_326c9_row2_col0\" class=\"data row2 col0\" >$12,906,550.87</td>\n",
       "    </tr>\n",
       "    <tr>\n",
       "      <th id=\"T_326c9_level0_row3\" class=\"row_heading level0 row3\" >33615</th>\n",
       "      <td id=\"T_326c9_row3_col0\" class=\"data row3 col0\" >$8,377,144.66</td>\n",
       "    </tr>\n",
       "    <tr>\n",
       "      <th id=\"T_326c9_level0_row4\" class=\"row_heading level0 row4\" >24741</th>\n",
       "      <td id=\"T_326c9_row4_col0\" class=\"data row4 col0\" >$82,268,892.04</td>\n",
       "    </tr>\n",
       "  </tbody>\n",
       "</table>\n"
      ],
      "text/plain": [
       "<pandas.io.formats.style.Styler at 0x1d11df4ed40>"
      ]
     },
     "execution_count": 72,
     "metadata": {},
     "output_type": "execute_result"
    }
   ],
   "source": [
    "# How much did each of the top 5 clients by quantity\n",
    "# spend? Check your work from Part 1 for client ids.\n",
    "top5_Client = df.loc[df['client_id'].isin(top5_Clients_List)]\n",
    "top5_CLient_Byquanity =  top5_Client.groupby('client_id').agg({'line_price':'sum'}).sort_values(by=\"client_id\", ascending=False).style.format(\"${:,.2f}\")\n",
    "top5_CLient_Byquanity\n"
   ]
  },
  {
   "cell_type": "code",
   "execution_count": 115,
   "id": "81b6e4d2",
   "metadata": {},
   "outputs": [
    {
     "data": {
      "text/html": [
       "<div>\n",
       "<style scoped>\n",
       "    .dataframe tbody tr th:only-of-type {\n",
       "        vertical-align: middle;\n",
       "    }\n",
       "\n",
       "    .dataframe tbody tr th {\n",
       "        vertical-align: top;\n",
       "    }\n",
       "\n",
       "    .dataframe thead th {\n",
       "        text-align: right;\n",
       "    }\n",
       "</style>\n",
       "<table border=\"1\" class=\"dataframe\">\n",
       "  <thead>\n",
       "    <tr style=\"text-align: right;\">\n",
       "      <th></th>\n",
       "      <th>qty</th>\n",
       "      <th>shipping_price</th>\n",
       "      <th>line_price</th>\n",
       "      <th>line_cost</th>\n",
       "      <th>line_profit</th>\n",
       "    </tr>\n",
       "    <tr>\n",
       "      <th>client_id</th>\n",
       "      <th></th>\n",
       "      <th></th>\n",
       "      <th></th>\n",
       "      <th></th>\n",
       "      <th></th>\n",
       "    </tr>\n",
       "  </thead>\n",
       "  <tbody>\n",
       "    <tr>\n",
       "      <th>24741</th>\n",
       "      <td>239862</td>\n",
       "      <td>5126448.37</td>\n",
       "      <td>82268892.04</td>\n",
       "      <td>45688899.71</td>\n",
       "      <td>36579992.33</td>\n",
       "    </tr>\n",
       "    <tr>\n",
       "      <th>38378</th>\n",
       "      <td>73667</td>\n",
       "      <td>3429455.40</td>\n",
       "      <td>12906550.87</td>\n",
       "      <td>9634720.98</td>\n",
       "      <td>3271829.89</td>\n",
       "    </tr>\n",
       "    <tr>\n",
       "      <th>66037</th>\n",
       "      <td>43018</td>\n",
       "      <td>1395151.85</td>\n",
       "      <td>10259514.80</td>\n",
       "      <td>7004482.98</td>\n",
       "      <td>3255031.82</td>\n",
       "    </tr>\n",
       "    <tr>\n",
       "      <th>46820</th>\n",
       "      <td>75768</td>\n",
       "      <td>1601448.84</td>\n",
       "      <td>9743794.33</td>\n",
       "      <td>7007191.64</td>\n",
       "      <td>2736602.69</td>\n",
       "    </tr>\n",
       "    <tr>\n",
       "      <th>33615</th>\n",
       "      <td>64313</td>\n",
       "      <td>1828834.89</td>\n",
       "      <td>8377144.66</td>\n",
       "      <td>6175163.91</td>\n",
       "      <td>2201980.75</td>\n",
       "    </tr>\n",
       "  </tbody>\n",
       "</table>\n",
       "</div>"
      ],
      "text/plain": [
       "              qty  shipping_price   line_price    line_cost  line_profit\n",
       "client_id                                                               \n",
       "24741      239862      5126448.37  82268892.04  45688899.71  36579992.33\n",
       "38378       73667      3429455.40  12906550.87   9634720.98   3271829.89\n",
       "66037       43018      1395151.85  10259514.80   7004482.98   3255031.82\n",
       "46820       75768      1601448.84   9743794.33   7007191.64   2736602.69\n",
       "33615       64313      1828834.89   8377144.66   6175163.91   2201980.75"
      ]
     },
     "execution_count": 115,
     "metadata": {},
     "output_type": "execute_result"
    }
   ],
   "source": [
    "# Create a summary DataFrame showing the totals for the\n",
    "# for the top 5 clients with the following information:\n",
    "# total units purchased, total shipping price,\n",
    "# total revenue, and total profit. Sort by total profit.\n",
    "\n",
    "top5_Client_Summery =  top5_Client.groupby('client_id').agg({\n",
    "                                    'qty': 'sum',\n",
    "                                    'shipping_price': 'sum',\n",
    "                                    'line_price': 'sum',\n",
    "                                    'line_cost': 'sum',\n",
    "                                    'line_profit' :'sum'\n",
    "                                }).sort_values('line_profit',ascending=False)\n",
    "\n",
    "top5_Client_Summery\n"
   ]
  },
  {
   "cell_type": "code",
   "execution_count": 116,
   "id": "7be02867",
   "metadata": {},
   "outputs": [
    {
     "data": {
      "text/html": [
       "<div>\n",
       "<style scoped>\n",
       "    .dataframe tbody tr th:only-of-type {\n",
       "        vertical-align: middle;\n",
       "    }\n",
       "\n",
       "    .dataframe tbody tr th {\n",
       "        vertical-align: top;\n",
       "    }\n",
       "\n",
       "    .dataframe thead th {\n",
       "        text-align: right;\n",
       "    }\n",
       "</style>\n",
       "<table border=\"1\" class=\"dataframe\">\n",
       "  <thead>\n",
       "    <tr style=\"text-align: right;\">\n",
       "      <th></th>\n",
       "      <th>Units</th>\n",
       "      <th>Shipping</th>\n",
       "      <th>Total Revenue</th>\n",
       "      <th>Total Cost</th>\n",
       "      <th>Total Profit</th>\n",
       "    </tr>\n",
       "    <tr>\n",
       "      <th>client_id</th>\n",
       "      <th></th>\n",
       "      <th></th>\n",
       "      <th></th>\n",
       "      <th></th>\n",
       "      <th></th>\n",
       "    </tr>\n",
       "  </thead>\n",
       "  <tbody>\n",
       "    <tr>\n",
       "      <th>24741</th>\n",
       "      <td>239862</td>\n",
       "      <td>$5.13M</td>\n",
       "      <td>$82.27M</td>\n",
       "      <td>$45.69M</td>\n",
       "      <td>$36.58M</td>\n",
       "    </tr>\n",
       "    <tr>\n",
       "      <th>38378</th>\n",
       "      <td>73667</td>\n",
       "      <td>$3.43M</td>\n",
       "      <td>$12.91M</td>\n",
       "      <td>$9.63M</td>\n",
       "      <td>$3.27M</td>\n",
       "    </tr>\n",
       "    <tr>\n",
       "      <th>66037</th>\n",
       "      <td>43018</td>\n",
       "      <td>$1.40M</td>\n",
       "      <td>$10.26M</td>\n",
       "      <td>$7.00M</td>\n",
       "      <td>$3.26M</td>\n",
       "    </tr>\n",
       "    <tr>\n",
       "      <th>46820</th>\n",
       "      <td>75768</td>\n",
       "      <td>$1.60M</td>\n",
       "      <td>$9.74M</td>\n",
       "      <td>$7.01M</td>\n",
       "      <td>$2.74M</td>\n",
       "    </tr>\n",
       "    <tr>\n",
       "      <th>33615</th>\n",
       "      <td>64313</td>\n",
       "      <td>$1.83M</td>\n",
       "      <td>$8.38M</td>\n",
       "      <td>$6.18M</td>\n",
       "      <td>$2.20M</td>\n",
       "    </tr>\n",
       "  </tbody>\n",
       "</table>\n",
       "</div>"
      ],
      "text/plain": [
       "            Units Shipping Total Revenue Total Cost Total Profit\n",
       "client_id                                                       \n",
       "24741      239862   $5.13M       $82.27M    $45.69M      $36.58M\n",
       "38378       73667   $3.43M       $12.91M     $9.63M       $3.27M\n",
       "66037       43018   $1.40M       $10.26M     $7.00M       $3.26M\n",
       "46820       75768   $1.60M        $9.74M     $7.01M       $2.74M\n",
       "33615       64313   $1.83M        $8.38M     $6.18M       $2.20M"
      ]
     },
     "execution_count": 116,
     "metadata": {},
     "output_type": "execute_result"
    }
   ],
   "source": [
    "# Format the data and rename the columns\n",
    "# to names suitable for presentation.\n",
    "# Currency should be in millions of dollars.\n",
    "\n",
    "column_To_Format = ['line_price','line_cost','line_profit','shipping_price']\n",
    "\n",
    "def currency_format(amount):\n",
    "    return f\"${amount/1000000:.2f}M\"\n",
    "\n",
    "for col in column_To_Format:\n",
    "    top5_Client_Summery[col] = top5_Client_Summery[col].apply(currency_format)\n",
    "\n",
    "top5_Client_Summery.columns=['Units','Shipping','Total Revenue','Total Cost','Total Profit']\n",
    "top5_Client_Summery\n"
   ]
  },
  {
   "cell_type": "code",
   "execution_count": 117,
   "id": "8ead0986",
   "metadata": {},
   "outputs": [
    {
     "data": {
      "text/html": [
       "<div>\n",
       "<style scoped>\n",
       "    .dataframe tbody tr th:only-of-type {\n",
       "        vertical-align: middle;\n",
       "    }\n",
       "\n",
       "    .dataframe tbody tr th {\n",
       "        vertical-align: top;\n",
       "    }\n",
       "\n",
       "    .dataframe thead th {\n",
       "        text-align: right;\n",
       "    }\n",
       "</style>\n",
       "<table border=\"1\" class=\"dataframe\">\n",
       "  <thead>\n",
       "    <tr style=\"text-align: right;\">\n",
       "      <th></th>\n",
       "      <th>Units</th>\n",
       "      <th>Shipping</th>\n",
       "      <th>Total Revenue</th>\n",
       "      <th>Total Cost</th>\n",
       "      <th>Total Profit</th>\n",
       "    </tr>\n",
       "    <tr>\n",
       "      <th>client_id</th>\n",
       "      <th></th>\n",
       "      <th></th>\n",
       "      <th></th>\n",
       "      <th></th>\n",
       "      <th></th>\n",
       "    </tr>\n",
       "  </thead>\n",
       "  <tbody>\n",
       "    <tr>\n",
       "      <th>24741</th>\n",
       "      <td>239862</td>\n",
       "      <td>$5.13M</td>\n",
       "      <td>$82.27M</td>\n",
       "      <td>$45.69M</td>\n",
       "      <td>$36.58M</td>\n",
       "    </tr>\n",
       "    <tr>\n",
       "      <th>38378</th>\n",
       "      <td>73667</td>\n",
       "      <td>$3.43M</td>\n",
       "      <td>$12.91M</td>\n",
       "      <td>$9.63M</td>\n",
       "      <td>$3.27M</td>\n",
       "    </tr>\n",
       "    <tr>\n",
       "      <th>66037</th>\n",
       "      <td>43018</td>\n",
       "      <td>$1.40M</td>\n",
       "      <td>$10.26M</td>\n",
       "      <td>$7.00M</td>\n",
       "      <td>$3.26M</td>\n",
       "    </tr>\n",
       "    <tr>\n",
       "      <th>46820</th>\n",
       "      <td>75768</td>\n",
       "      <td>$1.60M</td>\n",
       "      <td>$9.74M</td>\n",
       "      <td>$7.01M</td>\n",
       "      <td>$2.74M</td>\n",
       "    </tr>\n",
       "    <tr>\n",
       "      <th>33615</th>\n",
       "      <td>64313</td>\n",
       "      <td>$1.83M</td>\n",
       "      <td>$8.38M</td>\n",
       "      <td>$6.18M</td>\n",
       "      <td>$2.20M</td>\n",
       "    </tr>\n",
       "  </tbody>\n",
       "</table>\n",
       "</div>"
      ],
      "text/plain": [
       "            Units Shipping Total Revenue Total Cost Total Profit\n",
       "client_id                                                       \n",
       "24741      239862   $5.13M       $82.27M    $45.69M      $36.58M\n",
       "38378       73667   $3.43M       $12.91M     $9.63M       $3.27M\n",
       "66037       43018   $1.40M       $10.26M     $7.00M       $3.26M\n",
       "46820       75768   $1.60M        $9.74M     $7.01M       $2.74M\n",
       "33615       64313   $1.83M        $8.38M     $6.18M       $2.20M"
      ]
     },
     "execution_count": 117,
     "metadata": {},
     "output_type": "execute_result"
    }
   ],
   "source": [
    "# Sort the updated data by \"Total Profit\" form highest to lowest\n",
    "top5_Client_Summery['ntp']= pd.to_numeric(top5_Client_Summery['Total Profit'].str.replace('$','').str.replace('M',''))\n",
    "\n",
    "top5_Client_Summery.sort_values('ntp',ascending=False).filter(['Client ID','Units','Shipping','Total Revenue','Total Cost','Total Profit'])"
   ]
  },
  {
   "cell_type": "code",
   "execution_count": null,
   "id": "6589d63c",
   "metadata": {},
   "outputs": [],
   "source": []
  }
 ],
 "metadata": {
  "kernelspec": {
   "display_name": "dev",
   "language": "python",
   "name": "dev"
  },
  "language_info": {
   "codemirror_mode": {
    "name": "ipython",
    "version": 3
   },
   "file_extension": ".py",
   "mimetype": "text/x-python",
   "name": "python",
   "nbconvert_exporter": "python",
   "pygments_lexer": "ipython3",
   "version": "3.10.13"
  }
 },
 "nbformat": 4,
 "nbformat_minor": 5
}
